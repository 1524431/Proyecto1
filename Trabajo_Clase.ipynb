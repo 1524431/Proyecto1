{
  "nbformat": 4,
  "nbformat_minor": 0,
  "metadata": {
    "colab": {
      "provenance": [],
      "gpuType": "T4",
      "authorship_tag": "ABX9TyMLgfw8VEQD4dMyKmjfka5R",
      "include_colab_link": true
    },
    "kernelspec": {
      "name": "python3",
      "display_name": "Python 3"
    },
    "language_info": {
      "name": "python"
    },
    "accelerator": "GPU"
  },
  "cells": [
    {
      "cell_type": "markdown",
      "metadata": {
        "id": "view-in-github",
        "colab_type": "text"
      },
      "source": [
        "<a href=\"https://colab.research.google.com/github/1524431/Proyecto1/blob/main/Trabajo_Clase.ipynb\" target=\"_parent\"><img src=\"https://colab.research.google.com/assets/colab-badge.svg\" alt=\"Open In Colab\"/></a>"
      ]
    },
    {
      "cell_type": "code",
      "execution_count": null,
      "metadata": {
        "id": "lqzfyX8LQTVN"
      },
      "outputs": [],
      "source": [
        "#Ejercicio 1"
      ]
    },
    {
      "cell_type": "code",
      "source": [
        "#Ejercicio 2"
      ],
      "metadata": {
        "id": "bPraHPPYRBi4"
      },
      "execution_count": null,
      "outputs": []
    },
    {
      "cell_type": "code",
      "source": [
        "#Ejercicio 3"
      ],
      "metadata": {
        "id": "_frLfRo_TraC"
      },
      "execution_count": null,
      "outputs": []
    },
    {
      "cell_type": "code",
      "source": [
        "#Ejercicio 4"
      ],
      "metadata": {
        "id": "RsxOObpeVegq"
      },
      "execution_count": null,
      "outputs": []
    },
    {
      "cell_type": "code",
      "source": [
        "#Ejercicio 5"
      ],
      "metadata": {
        "id": "Pw5444GnVer9"
      },
      "execution_count": null,
      "outputs": []
    },
    {
      "cell_type": "code",
      "source": [
        "#Ejercicio 6"
      ],
      "metadata": {
        "id": "V047exIeVe0P"
      },
      "execution_count": null,
      "outputs": []
    },
    {
      "cell_type": "code",
      "source": [
        "#Ejercicio 7"
      ],
      "metadata": {
        "id": "YfatFuDJVe7l"
      },
      "execution_count": null,
      "outputs": []
    },
    {
      "cell_type": "code",
      "source": [
        "#Ejercicio 8"
      ],
      "metadata": {
        "id": "0cMfXiJDVfCt"
      },
      "execution_count": null,
      "outputs": []
    },
    {
      "cell_type": "code",
      "source": [
        "#Ejercicio 9"
      ],
      "metadata": {
        "id": "OyFNzQNqVfIP"
      },
      "execution_count": null,
      "outputs": []
    },
    {
      "cell_type": "code",
      "source": [
        "#Ejercicio 10"
      ],
      "metadata": {
        "id": "-1OerTThVfNv"
      },
      "execution_count": null,
      "outputs": []
    },
    {
      "cell_type": "code",
      "source": [
        "#Ejercicio 11"
      ],
      "metadata": {
        "id": "jCc1NA3RVrTE"
      },
      "execution_count": null,
      "outputs": []
    },
    {
      "cell_type": "code",
      "source": [
        "#Ejercicio 12"
      ],
      "metadata": {
        "id": "X-fHWw3nVraM"
      },
      "execution_count": null,
      "outputs": []
    },
    {
      "cell_type": "code",
      "source": [
        "#Ejercicio 13"
      ],
      "metadata": {
        "id": "SgaB0tUIVrd0"
      },
      "execution_count": null,
      "outputs": []
    },
    {
      "cell_type": "code",
      "source": [
        "#Ejercicio 14"
      ],
      "metadata": {
        "id": "Vi0r9WRUVrhJ"
      },
      "execution_count": null,
      "outputs": []
    },
    {
      "cell_type": "code",
      "source": [
        "#Ejercicio 15"
      ],
      "metadata": {
        "id": "46rNl5dvVrrE"
      },
      "execution_count": null,
      "outputs": []
    },
    {
      "cell_type": "code",
      "source": [
        "#Ejercicio 16"
      ],
      "metadata": {
        "id": "r7M1iGcoVxM8"
      },
      "execution_count": null,
      "outputs": []
    },
    {
      "cell_type": "code",
      "source": [
        "#Ejercicio 17"
      ],
      "metadata": {
        "id": "ZItW6XHtVxWU"
      },
      "execution_count": null,
      "outputs": []
    },
    {
      "cell_type": "code",
      "source": [
        "#Ejercicio 18"
      ],
      "metadata": {
        "id": "1XFoD-ALVxe8"
      },
      "execution_count": null,
      "outputs": []
    },
    {
      "cell_type": "code",
      "source": [
        "#Ejercicio 19"
      ],
      "metadata": {
        "id": "Iys4_PdSVxoM"
      },
      "execution_count": null,
      "outputs": []
    },
    {
      "cell_type": "code",
      "source": [
        "#Ejercicio 20"
      ],
      "metadata": {
        "id": "Myb9yityVxvE"
      },
      "execution_count": null,
      "outputs": []
    }
  ]
}